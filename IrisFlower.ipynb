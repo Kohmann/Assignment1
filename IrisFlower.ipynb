{
 "cells": [
  {
   "cell_type": "code",
   "execution_count": 9,
   "metadata": {},
   "outputs": [],
   "source": [
    "import pandas as pd \n",
    "import matplotlib.pyplot as plt\n",
    "from sklearn.preprocessing import normalize\n",
    "from sklearn.preprocessing import MinMaxScaler\n",
    "from sklearn.model_selection import train_test_split\n",
    "import numpy as np\n",
    "\n",
    "\n",
    "dataset = pd.read_csv(\"iris.data\", usecols=[0,1,2,3,4], names=['sepal_length_in_cm', 'sepal_width_in_cm', 'petal_length_in_cm', 'petal_width_in_cm', 'flower_name'])\n",
    "\n",
    "data = dataset.iloc[:,0:4]\n",
    "names = dataset[\"flower_name\"]\n",
    "\n",
    "X_train, X_test, y_train, y_test = train_test_split(data, names, test_size=0.25, random_state=0)\n",
    "scaler = MinMaxScaler()\n",
    "\n",
    "X_train_norm, X_test_norm, y_train, y_test = train_test_split(scaler.fit_transform(data), names, test_size=0.25, random_state=0)\n",
    "\n",
    "\n"
   ]
  },
  {
   "cell_type": "code",
   "execution_count": 25,
   "metadata": {},
   "outputs": [
    {
     "name": "stdout",
     "output_type": "stream",
     "text": [
      "0.98\n",
      "Normalized: 0.96\n"
     ]
    }
   ],
   "source": [
    "from sklearn.neighbors import KNeighborsClassifier\n",
    "\n",
    "\n",
    "knn = KNeighborsClassifier(n_neighbors = 10)\n",
    "knn.fit(X_train, y_train)\n",
    "\n",
    "print(np.round(knn.score(X_test, y_test), 10))\n",
    "\n",
    "\n",
    "#Normalized\n",
    "\n",
    "knnNorm = KNeighborsClassifier(n_neighbors = 10)\n",
    "knnNorm.fit(X_train_norm, y_train)\n",
    "\n",
    "print(\"Normalized:\", np.round(knnNorm.score(X_test_norm, y_test), 4))\n"
   ]
  },
  {
   "cell_type": "code",
   "execution_count": 3,
   "metadata": {},
   "outputs": [
    {
     "name": "stdout",
     "output_type": "stream",
     "text": [
      "0.9211\n",
      "Normalized: 0.8421\n"
     ]
    }
   ],
   "source": [
    "from sklearn.svm import LinearSVC\n",
    "\n",
    "svm = LinearSVC(max_iter=10000)\n",
    "svm.fit(X_train, y_train)\n",
    "\n",
    "print(np.round(svm.score(X_test, y_test), 4))\n",
    "\n",
    "#Normalized\n",
    "\n",
    "svmNorm = LinearSVC(max_iter=10000)\n",
    "result = svmNorm.fit(X_train_norm, y_train)\n",
    "print(\"Normalized:\", np.round(svmNorm.score(X_test_norm, y_test), 4))\n"
   ]
  },
  {
   "cell_type": "code",
   "execution_count": 4,
   "metadata": {},
   "outputs": [
    {
     "name": "stdout",
     "output_type": "stream",
     "text": [
      "0.9737\n",
      "Normalized: 0.8947\n"
     ]
    }
   ],
   "source": [
    "from sklearn.linear_model import LogisticRegression\n",
    "\n",
    "loreg = LogisticRegression(max_iter=1000)\n",
    "\n",
    "\n",
    "loreg.fit(X_train, y_train)\n",
    "print(np.round(loreg.score(X_test, y_test), 4))\n",
    "\n",
    "#Normalized\n",
    "\n",
    "loregNorm = LogisticRegression(max_iter=1000)\n",
    "\n",
    "loregNorm.fit(X_train_norm, y_train)\n",
    "print(\"Normalized:\", np.round(loregNorm.score(X_test_norm, y_test), 4))\n"
   ]
  },
  {
   "cell_type": "code",
   "execution_count": 5,
   "metadata": {},
   "outputs": [
    {
     "name": "stdout",
     "output_type": "stream",
     "text": [
      "0.9737\n",
      "Normalized: 0.9737\n"
     ]
    }
   ],
   "source": [
    "from sklearn.svm import SVC\n",
    "\n",
    "\n",
    "svmsig = SVC(kernel=\"poly\",max_iter=10000)\n",
    "result = svmsig.fit(X_train, y_train)\n",
    "\n",
    "print(np.round(svmsig.score(X_test, y_test), 4))\n",
    "\n",
    "#Normalized\n",
    "\n",
    "svmsigNorm = SVC(kernel=\"poly\",max_iter=10000)\n",
    "result = svmsigNorm.fit(X_train_norm, y_train)\n",
    "\n",
    "print(\"Normalized:\", np.round(svmsigNorm.score(X_test_norm, y_test), 4))\n"
   ]
  },
  {
   "cell_type": "code",
   "execution_count": 10,
   "metadata": {},
   "outputs": [
    {
     "name": "stdout",
     "output_type": "stream",
     "text": [
      "0.96\n",
      "Normalized: 0.98\n"
     ]
    }
   ],
   "source": [
    "from sklearn.neural_network import MLPClassifier\n",
    "from sklearn import preprocessing\n",
    "\n",
    "le = preprocessing.LabelEncoder()\n",
    "\n",
    "X_train, X_test, y_train, y_test = train_test_split(data, le.fit_transform(names), test_size=0.33, random_state=0)\n",
    "mlp = MLPClassifier(solver='sgd',learning_rate_init= 0.01, max_iter=10000)\n",
    "\n",
    "mlp.fit(X_train, y_train.ravel())\n",
    "print(np.round(mlp.score(X_test,y_test), 4))\n",
    "\n",
    "\n",
    "\n",
    "#Normalized\n",
    "\n",
    "X_train_norm, X_test_norm, y_train, y_test = train_test_split(scaler.fit_transform(data), le.fit_transform(names), test_size=0.33, random_state=0)\n",
    "mlp = MLPClassifier(solver='sgd',learning_rate_init= 0.01, max_iter=10000)\n",
    "\n",
    "mlp.fit(X_train_norm, y_train.ravel())\n",
    "print(\"Normalized:\", np.round(mlp.score(X_test_norm,y_test), 4))\n",
    "\n",
    "\n"
   ]
  },
  {
   "cell_type": "code",
   "execution_count": null,
   "metadata": {},
   "outputs": [],
   "source": []
  }
 ],
 "metadata": {
  "kernelspec": {
   "display_name": "Python 3",
   "language": "python",
   "name": "python3"
  },
  "language_info": {
   "codemirror_mode": {
    "name": "ipython",
    "version": 3
   },
   "file_extension": ".py",
   "mimetype": "text/x-python",
   "name": "python",
   "nbconvert_exporter": "python",
   "pygments_lexer": "ipython3",
   "version": "3.7.0"
  }
 },
 "nbformat": 4,
 "nbformat_minor": 4
}
